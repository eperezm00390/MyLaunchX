{
 "cells": [
  {
   "cell_type": "markdown",
   "metadata": {},
   "source": [
    "# Ejercicio 1"
   ]
  },
  {
   "cell_type": "code",
   "execution_count": 2,
   "metadata": {},
   "outputs": [],
   "source": [
    "distanciaTierraSol = 149597870\n",
    "distanciaJupiterSol = 778547200"
   ]
  },
  {
   "cell_type": "code",
   "execution_count": 5,
   "metadata": {},
   "outputs": [
    {
     "name": "stdout",
     "output_type": "stream",
     "text": [
      "628949330 km\n"
     ]
    }
   ],
   "source": [
    "distanciaTierraJupiter = distanciaJupiterSol - distanciaTierraSol\n",
    "print(f\"{distanciaTierraJupiter} km\")"
   ]
  },
  {
   "cell_type": "markdown",
   "metadata": {},
   "source": [
    "# Ejercicio 2"
   ]
  },
  {
   "cell_type": "code",
   "execution_count": 1,
   "metadata": {},
   "outputs": [
    {
     "name": "stdout",
     "output_type": "stream",
     "text": [
      "\n",
      "Planeta 1: Mercurio, Distancia al sol: 57900000\n",
      "Planeta 2: Venus, Distancia al sol: 108200000\n",
      "Distancia entre Mercurio y Venus: 50300000 KM\n",
      "Distancia entre Mercurio y Venus: 31236300.0 Millas\n",
      "\n"
     ]
    }
   ],
   "source": [
    "planetaUno = input(\"Ingrese nombre del primer planeta\\nPlaneta 1 > \")\n",
    "distanciaPlanetaUnoSolStr = input(\"Ingrese la distancia del sol al planeta 1 > \")\n",
    "planetaDos = input(\"Ingrese nombre del segundo planeta\\nPlaneta 2 > \")\n",
    "distanciaPlanetaDosSolStr = input(\"Ingrese la distancia del sol al planeta 2 > \")\n",
    "\n",
    "distanciaPlanetaUnoSol = 0\n",
    "distanciaPlanetaDosSol = 0\n",
    "\n",
    "if distanciaPlanetaUnoSolStr.isnumeric():\n",
    "    distanciaPlanetaUnoSol = int(distanciaPlanetaUnoSolStr)\n",
    "\n",
    "if distanciaPlanetaDosSolStr.isnumeric():\n",
    "    distanciaPlanetaDosSol = int(distanciaPlanetaDosSolStr)\n",
    "\n",
    "distanciaPlanetaUnoPlanetaDos = abs(distanciaPlanetaDosSol - distanciaPlanetaUnoSol)\n",
    "distanciaPlanetaUnoPlanetaDosMillas = distanciaPlanetaUnoPlanetaDos * 0.621\n",
    "\n",
    "plantilla = \"\"\"\n",
    "Planeta 1: {planetaUno}, Distancia al sol: {distanciaPlanetaUno}\n",
    "Planeta 2: {planetaDos}, Distancia al sol: {distanciaPlanetaDos}\n",
    "Distancia entre {planetaUno} y {planetaDos}: {distancia} KM\n",
    "Distancia entre {planetaUno} y {planetaDos}: {distanciaMillas} Millas\n",
    "\"\"\"\n",
    "\n",
    "print(plantilla.format(planetaUno = planetaUno, distanciaPlanetaUno = distanciaPlanetaUnoSol, \n",
    "planetaDos = planetaDos, distanciaPlanetaDos = distanciaPlanetaDosSol, \n",
    "distancia = distanciaPlanetaUnoPlanetaDos, distanciaMillas = distanciaPlanetaUnoPlanetaDosMillas))"
   ]
  }
 ],
 "metadata": {
  "interpreter": {
   "hash": "b89b5cfaba6639976dc87ff2fec6d58faec662063367e2c229c520fe71072417"
  },
  "kernelspec": {
   "display_name": "Python 3.10.2 64-bit",
   "language": "python",
   "name": "python3"
  },
  "language_info": {
   "codemirror_mode": {
    "name": "ipython",
    "version": 3
   },
   "file_extension": ".py",
   "mimetype": "text/x-python",
   "name": "python",
   "nbconvert_exporter": "python",
   "pygments_lexer": "ipython3",
   "version": "3.10.2"
  },
  "orig_nbformat": 4
 },
 "nbformat": 4,
 "nbformat_minor": 2
}
