{
 "cells": [
  {
   "cell_type": "markdown",
   "metadata": {},
   "source": []
  },
  {
   "cell_type": "markdown",
   "metadata": {},
   "source": [
    "# Ejercicio 1"
   ]
  },
  {
   "cell_type": "code",
   "execution_count": 21,
   "metadata": {},
   "outputs": [],
   "source": [
    "text = \"\"\"\n",
    "Interesting facts about the Moon. \n",
    "The Moon is Earth's only satellite. \n",
    "There are several interesting facts about the Moon and how it affects life here on Earth. \n",
    "On average, the Moon moves 4cm away from the Earth every year. \n",
    "This yearly drift is not significant enough to cause immediate effects on Earth. \n",
    "The sun temperature is 5500°C. \n",
    "The highest\"\"\"\n",
    "\n",
    "oraciones = text.replace('. ', '. ||').split('||')"
   ]
  },
  {
   "cell_type": "code",
   "execution_count": 22,
   "metadata": {},
   "outputs": [],
   "source": [
    "palabrasClave = ['average', 'temperature', 'distance', 'Earth']"
   ]
  },
  {
   "cell_type": "code",
   "execution_count": 23,
   "metadata": {},
   "outputs": [
    {
     "name": "stdout",
     "output_type": "stream",
     "text": [
      "\n",
      "The Moon is Earth's only satellite. \n",
      "\n",
      "There are several interesting facts about the Moon and how it affects life here on Earth. \n",
      "\n",
      "On average, the Moon moves 4cm away from the Earth every year. \n",
      "\n",
      "On average, the Moon moves 4cm away from the Earth every year. \n",
      "\n",
      "This yearly drift is not significant enough to cause immediate effects on Earth. \n",
      "\n",
      "The sun temperature is 5500°C. \n"
     ]
    }
   ],
   "source": [
    "for oracion in oraciones:\n",
    "    for palabraClave in palabrasClave:\n",
    "        if palabraClave in oracion:\n",
    "            print(oracion)"
   ]
  },
  {
   "cell_type": "code",
   "execution_count": 32,
   "metadata": {},
   "outputs": [
    {
     "name": "stdout",
     "output_type": "stream",
     "text": [
      "\n",
      "Interesting facts about the Moon. \n",
      "\n",
      "The Moon is Earth's only satellite. \n",
      "\n",
      "There are several interesting facts about the Moon and how it affects life here on Earth. \n",
      "\n",
      "On average, the Moon moves 4cm away from the Earth every year. \n",
      "\n",
      "This yearly drift is not significant enough to cause immediate effects on Earth. \n",
      "\n",
      "The sun temperature is 5500°Celsius. \n",
      "\n",
      "The highest\n"
     ]
    }
   ],
   "source": [
    "for oracion in oraciones:\n",
    "    nuevaOracion = oracion.replace(\"°C\", \"°Celsius\")\n",
    "    print(nuevaOracion)"
   ]
  },
  {
   "cell_type": "markdown",
   "metadata": {},
   "source": [
    "# Ejercicio 2"
   ]
  },
  {
   "cell_type": "code",
   "execution_count": 71,
   "metadata": {},
   "outputs": [],
   "source": [
    "name = \"Moon\"\n",
    "gravity = 0.00162\n",
    "planet = \"Earth\""
   ]
  },
  {
   "cell_type": "code",
   "execution_count": 39,
   "metadata": {},
   "outputs": [
    {
     "name": "stdout",
     "output_type": "stream",
     "text": [
      "the gravity on the Moon\n"
     ]
    }
   ],
   "source": [
    "title = 'the gravity on the {0}'.format(name) \n",
    "print(title)"
   ]
  },
  {
   "cell_type": "code",
   "execution_count": 72,
   "metadata": {},
   "outputs": [
    {
     "name": "stdout",
     "output_type": "stream",
     "text": [
      "\n",
      "planet: Earth\n",
      "satellite: Moon \n",
      "satellite gravity: 1.6199999999999999 m/s2\n",
      "\n"
     ]
    }
   ],
   "source": [
    "newTemplate = \"\"\"\n",
    "planet: {planet}\n",
    "satellite: {name} \n",
    "satellite gravity: {gravity} m/s2\n",
    "\"\"\"\n",
    "\n",
    "print(newTemplate.format(planet=planet, name=name, gravity=gravity*1000))"
   ]
  },
  {
   "cell_type": "code",
   "execution_count": 43,
   "metadata": {},
   "outputs": [
    {
     "name": "stdout",
     "output_type": "stream",
     "text": [
      "the gravity on the Moon\n",
      "\n",
      "planet: Earth\n",
      "satellite: Moon \n",
      "satellite gravity: 1.6199999999999999 m/s2\n",
      "\n"
     ]
    }
   ],
   "source": [
    "joinTemplate = title + \"\\n\" + newTemplate\n",
    "\n",
    "print(joinTemplate)"
   ]
  },
  {
   "cell_type": "code",
   "execution_count": 73,
   "metadata": {},
   "outputs": [],
   "source": [
    "# new Data\n",
    "\n",
    "planet = \"Mars\"\n",
    "gravity = 0.00143\n",
    "name = \"Ganimedes\""
   ]
  },
  {
   "cell_type": "code",
   "execution_count": 66,
   "metadata": {},
   "outputs": [
    {
     "name": "stdout",
     "output_type": "stream",
     "text": [
      "\n",
      "planet: Earth\n",
      "satellite: Moon \n",
      "satellite gravity: 1.6199999999999999 m/s2\n",
      "\n"
     ]
    }
   ],
   "source": [
    "print(newTemplate)"
   ]
  },
  {
   "cell_type": "code",
   "execution_count": 74,
   "metadata": {},
   "outputs": [
    {
     "name": "stdout",
     "output_type": "stream",
     "text": [
      "\n",
      "planet: Mars\n",
      "satellite: Ganimedes \n",
      "satellite gravity: 1.4300000000000002 m/s2\n",
      "\n"
     ]
    }
   ],
   "source": [
    "print(newTemplate.format(planet=planet, name=name, gravity=gravity*1000))"
   ]
  }
 ],
 "metadata": {
  "interpreter": {
   "hash": "b89b5cfaba6639976dc87ff2fec6d58faec662063367e2c229c520fe71072417"
  },
  "kernelspec": {
   "display_name": "Python 3.10.2 64-bit",
   "language": "python",
   "name": "python3"
  },
  "language_info": {
   "codemirror_mode": {
    "name": "ipython",
    "version": 3
   },
   "file_extension": ".py",
   "mimetype": "text/x-python",
   "name": "python",
   "nbconvert_exporter": "python",
   "pygments_lexer": "ipython3",
   "version": "3.10.2"
  },
  "orig_nbformat": 4
 },
 "nbformat": 4,
 "nbformat_minor": 2
}
