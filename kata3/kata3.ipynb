{
 "cells": [
  {
   "cell_type": "markdown",
   "metadata": {},
   "source": [
    "# Ejercicio 1"
   ]
  },
  {
   "cell_type": "code",
   "execution_count": 1,
   "metadata": {},
   "outputs": [
    {
     "name": "stdout",
     "output_type": "stream",
     "text": [
      "Advertencia: un asteroide se acerca a la Tierra demasiado rápido.\n"
     ]
    }
   ],
   "source": [
    "velocidadAsteroide = 49\n",
    "\n",
    "if velocidadAsteroide > 25:\n",
    "    print(\"Advertencia: un asteroide se acerca a la Tierra demasiado rápido.\")\n",
    "else:\n",
    "    print(\"Velocidad de asteroide sin riesgos.\")"
   ]
  },
  {
   "cell_type": "markdown",
   "metadata": {},
   "source": [
    "# Ejercicio 2"
   ]
  },
  {
   "cell_type": "code",
   "execution_count": null,
   "metadata": {},
   "outputs": [],
   "source": [
    "tamanioAsteroide = 30\n",
    "\n",
    "if tamanioAsteroide >= 25 :\n",
    "    print(\"Advertencia: un asteroide se acerca a la Tierra y es demaciado grande.\")\n",
    "elif tamanioAsteroide >= 20 and tamanioAsteroide < 25:\n",
    "    print(\"Mira un destello en el cielo\")\n",
    "else:\n",
    "    print(\"Tamaño de asteroide sin riesgos.\")"
   ]
  },
  {
   "cell_type": "markdown",
   "metadata": {},
   "source": [
    "# Ejercicio 3"
   ]
  },
  {
   "cell_type": "code",
   "execution_count": 9,
   "metadata": {},
   "outputs": [
    {
     "name": "stdout",
     "output_type": "stream",
     "text": [
      "Advertencia: un asteroide se acerca a la Tierra y es muy peligroso.\n"
     ]
    }
   ],
   "source": [
    "tamanioAsteroide = 19\n",
    "velocidadAsteroide = 26\n",
    "\n",
    "if velocidadAsteroide >= 25 or tamanioAsteroide >= 25:\n",
    "    print(\"Advertencia: un asteroide se acerca a la Tierra y es muy peligroso.\")\n",
    "elif tamanioAsteroide >= 20 and tamanioAsteroide < 25:\n",
    "    print(\"Mira un destello en el cielo\")\n",
    "else:\n",
    "    print(\"Tamaño de asteroide sin riesgos.\")"
   ]
  }
 ],
 "metadata": {
  "interpreter": {
   "hash": "b89b5cfaba6639976dc87ff2fec6d58faec662063367e2c229c520fe71072417"
  },
  "kernelspec": {
   "display_name": "Python 3.10.2 64-bit",
   "language": "python",
   "name": "python3"
  },
  "language_info": {
   "codemirror_mode": {
    "name": "ipython",
    "version": 3
   },
   "file_extension": ".py",
   "mimetype": "text/x-python",
   "name": "python",
   "nbconvert_exporter": "python",
   "pygments_lexer": "ipython3",
   "version": "3.10.2"
  },
  "orig_nbformat": 4
 },
 "nbformat": 4,
 "nbformat_minor": 2
}
