{
 "cells": [
  {
   "cell_type": "markdown",
   "metadata": {},
   "source": [
    "# Ejercicio 1"
   ]
  },
  {
   "cell_type": "code",
   "execution_count": 3,
   "metadata": {},
   "outputs": [],
   "source": [
    "planetaMarte = {\n",
    "    \"nombre\": \"Marte\",\n",
    "    \"posicionEnSistemaSolar\": 4,\n",
    "    \"atmosfera\": \"delgada de dioxido de carbono\",\n",
    "    \"lunas\": {\n",
    "        \"total\": 2,\n",
    "        \"nombres\": [\"Fobos\", \"Deimos\"]\n",
    "    },\n",
    "    \"distanciaEstelarKm\": 54600000,\n",
    "    \"elementosOritales\": {\n",
    "        \"logitudNodoAscendenteGrados\": 49.562,\n",
    "        \"inclinacionGrados\": 1.850\n",
    "    },\n",
    "    \"elementosOrbitalesDerivados\": {\n",
    "        \"periodoOrbitalSideralDias\": 686.971,\n",
    "        \"periodoOrbitalSinodicoDias\": 779.76,\n",
    "        \"velocidadOrbitalMediaKms\": 24.077,\n",
    "        \"radioOrbitalMedioKm\": 227936640\n",
    "    }\n",
    "}"
   ]
  },
  {
   "cell_type": "code",
   "execution_count": 5,
   "metadata": {},
   "outputs": [],
   "source": [
    "planet = {\n",
    "    \"name\": \"Mars\",\n",
    "    \"moons\": 2\n",
    "}"
   ]
  },
  {
   "cell_type": "code",
   "execution_count": 7,
   "metadata": {},
   "outputs": [
    {
     "name": "stdout",
     "output_type": "stream",
     "text": [
      "\n",
      "El planeta Mars tiene 2 luna(s)\n",
      "\n"
     ]
    }
   ],
   "source": [
    "print(\"\"\"\n",
    "El planeta {planetName} tiene {planetMoons} luna(s)\n",
    "\"\"\".format(planetName = planet[\"name\"], planetMoons = planet.get(\"moons\")))"
   ]
  },
  {
   "cell_type": "code",
   "execution_count": 8,
   "metadata": {},
   "outputs": [],
   "source": [
    "planet[\"circumference\"] = {\n",
    "    \"polar\": 6752,\n",
    "    \"equatorial\": 6792\n",
    "}"
   ]
  },
  {
   "cell_type": "code",
   "execution_count": 9,
   "metadata": {},
   "outputs": [
    {
     "name": "stdout",
     "output_type": "stream",
     "text": [
      "\n",
      "    El planeta Mars tiene una circumferencia polar de 6752\n",
      "    \n"
     ]
    }
   ],
   "source": [
    "print(\n",
    "    \"\"\"\n",
    "    El planeta {planetName} tiene una circumferencia polar de {planetPolarCircumference}\n",
    "    \"\"\".format(planetName = planet[\"name\"], planetPolarCircumference = planet[\"circumference\"][\"polar\"])\n",
    ")"
   ]
  },
  {
   "cell_type": "markdown",
   "metadata": {},
   "source": [
    "# Ejercicio 2"
   ]
  },
  {
   "cell_type": "code",
   "execution_count": 10,
   "metadata": {},
   "outputs": [],
   "source": [
    "planet_moons = {\n",
    "    'mercury': 0,\n",
    "    'venus': 0,\n",
    "    'earth': 1,\n",
    "    'mars': 2,\n",
    "    'jupiter': 79,\n",
    "    'saturn': 82,\n",
    "    'uranus': 27,\n",
    "    'neptune': 14,\n",
    "    'pluto': 5,\n",
    "    'haumea': 2,\n",
    "    'makemake': 1,\n",
    "    'eris': 1\n",
    "}"
   ]
  },
  {
   "cell_type": "code",
   "execution_count": 11,
   "metadata": {},
   "outputs": [],
   "source": [
    "moons = planet_moons.values()\n",
    "\n",
    "planets = planet_moons.keys()"
   ]
  },
  {
   "cell_type": "code",
   "execution_count": 17,
   "metadata": {},
   "outputs": [
    {
     "name": "stdout",
     "output_type": "stream",
     "text": [
      "El total de lunas existentes en el sistema solar son: 214\n",
      "El promedio de lunas por planeta es de 17.833333333333332\n"
     ]
    }
   ],
   "source": [
    "total_moons = 0\n",
    "for planetMoons in moons:\n",
    "    total_moons += planetMoons\n",
    "\n",
    "print(\"El total de lunas existentes en el sistema solar son: {totalMoons}\".format(totalMoons = total_moons))\n",
    "print(\"El promedio de lunas por planeta es de {averageMoons}\".format(averageMoons = (total_moons/len(planets))))"
   ]
  }
 ],
 "metadata": {
  "interpreter": {
   "hash": "b89b5cfaba6639976dc87ff2fec6d58faec662063367e2c229c520fe71072417"
  },
  "kernelspec": {
   "display_name": "Python 3.10.2 64-bit",
   "language": "python",
   "name": "python3"
  },
  "language_info": {
   "codemirror_mode": {
    "name": "ipython",
    "version": 3
   },
   "file_extension": ".py",
   "mimetype": "text/x-python",
   "name": "python",
   "nbconvert_exporter": "python",
   "pygments_lexer": "ipython3",
   "version": "3.10.2"
  },
  "orig_nbformat": 4
 },
 "nbformat": 4,
 "nbformat_minor": 2
}
