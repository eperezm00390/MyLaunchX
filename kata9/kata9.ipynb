{
 "cells": [
  {
   "cell_type": "markdown",
   "metadata": {},
   "source": [
    "# Ejercicio 1"
   ]
  },
  {
   "cell_type": "code",
   "execution_count": 2,
   "metadata": {},
   "outputs": [],
   "source": [
    "def informeCombustible(tanque1, tanque2, tanque3):\n",
    "    promedio = (tanque1 + tanque2 + tanque3) /3\n",
    "    return \"\"\"\n",
    "    El tanque 1 se encuentra {porcentajeTanque1}% lleno,\n",
    "    El tanque 2 se encuentra {porcentajeTanque2}% lleno,\n",
    "    El tanque 3 se encuentra {porcentajeTanque3}% lleno,\n",
    "    \n",
    "    Promedio de combustible: {porcentajePromedio}%\n",
    "    \"\"\".format(porcentajeTanque1 = tanque1, porcentajeTanque2 = tanque2, porcentajeTanque3 = tanque3, porcentajePromedio = promedio)"
   ]
  },
  {
   "cell_type": "code",
   "execution_count": 3,
   "metadata": {},
   "outputs": [
    {
     "name": "stdout",
     "output_type": "stream",
     "text": [
      "\n",
      "    El tanque 1 se encuentra 80% lleno,\n",
      "    El tanque 2 se encuentra 60% lleno,\n",
      "    El tanque 3 se encuentra 90% lleno,\n",
      "    \n",
      "    Promedio de combustible: 76.66666666666667%\n",
      "    \n"
     ]
    }
   ],
   "source": [
    "print(informeCombustible(80, 60, 90))"
   ]
  },
  {
   "cell_type": "code",
   "execution_count": 4,
   "metadata": {},
   "outputs": [],
   "source": [
    "def promedioCombustible(tanque1, tanque2, tanque3):\n",
    "    promedio = (tanque1 + tanque2 + tanque3) /3\n",
    "    return promedio"
   ]
  },
  {
   "cell_type": "code",
   "execution_count": 5,
   "metadata": {},
   "outputs": [],
   "source": [
    "def informeCombustible(tanque1, tanque2, tanque3):\n",
    "    promedio = promedioCombustible(tanque1=tanque1, tanque2=tanque2, tanque3=tanque3)\n",
    "    return \"\"\"\n",
    "    El tanque 1 se encuentra {porcentajeTanque1}% lleno,\n",
    "    El tanque 2 se encuentra {porcentajeTanque2}% lleno,\n",
    "    El tanque 3 se encuentra {porcentajeTanque3}% lleno,\n",
    "    \n",
    "    Promedio de combustible: {porcentajePromedio}%\n",
    "    \"\"\".format(porcentajeTanque1 = tanque1, porcentajeTanque2 = tanque2, porcentajeTanque3 = tanque3, porcentajePromedio = promedio)"
   ]
  },
  {
   "cell_type": "code",
   "execution_count": 6,
   "metadata": {},
   "outputs": [
    {
     "name": "stdout",
     "output_type": "stream",
     "text": [
      "\n",
      "    El tanque 1 se encuentra 20% lleno,\n",
      "    El tanque 2 se encuentra 10% lleno,\n",
      "    El tanque 3 se encuentra 40% lleno,\n",
      "    \n",
      "    Promedio de combustible: 23.333333333333332%\n",
      "    \n"
     ]
    }
   ],
   "source": [
    "print(informeCombustible(20,10,40))"
   ]
  }
 ],
 "metadata": {
  "interpreter": {
   "hash": "b89b5cfaba6639976dc87ff2fec6d58faec662063367e2c229c520fe71072417"
  },
  "kernelspec": {
   "display_name": "Python 3.10.2 64-bit",
   "language": "python",
   "name": "python3"
  },
  "language_info": {
   "codemirror_mode": {
    "name": "ipython",
    "version": 3
   },
   "file_extension": ".py",
   "mimetype": "text/x-python",
   "name": "python",
   "nbconvert_exporter": "python",
   "pygments_lexer": "ipython3",
   "version": "3.10.2"
  },
  "orig_nbformat": 4
 },
 "nbformat": 4,
 "nbformat_minor": 2
}
