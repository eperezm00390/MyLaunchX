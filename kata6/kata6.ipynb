{
 "cells": [
  {
   "cell_type": "markdown",
   "metadata": {},
   "source": [
    "# Ejercicio 1"
   ]
  },
  {
   "cell_type": "code",
   "execution_count": 1,
   "metadata": {},
   "outputs": [],
   "source": [
    "planet = [\"Mercurio\", \"Venus\" \"Tierra\", \"Marte\", \"Jupiter\", \"Saturno\", \"Urano\", \"Neptuno\"]"
   ]
  },
  {
   "cell_type": "code",
   "execution_count": 6,
   "metadata": {},
   "outputs": [],
   "source": [
    "planet.append(\"Pluton\")"
   ]
  },
  {
   "cell_type": "code",
   "execution_count": 9,
   "metadata": {},
   "outputs": [
    {
     "name": "stdout",
     "output_type": "stream",
     "text": [
      "9\n",
      "Pluton\n"
     ]
    }
   ],
   "source": [
    "len(planet)\n",
    "print(len(planet))\n",
    "print(planet[len(planet) - 1])"
   ]
  },
  {
   "cell_type": "markdown",
   "metadata": {},
   "source": [
    "# Ejercicio 2"
   ]
  },
  {
   "cell_type": "code",
   "execution_count": 10,
   "metadata": {},
   "outputs": [],
   "source": [
    "planets = ['Mercury', 'Venus', 'Earth', 'Mars', 'Jupiter', 'Saturn', 'Neptune']"
   ]
  },
  {
   "cell_type": "code",
   "execution_count": 14,
   "metadata": {},
   "outputs": [
    {
     "name": "stdout",
     "output_type": "stream",
     "text": [
      "\n",
      "El planeta Neptune esta en la posición 6\n",
      "\n",
      "\n",
      "Los planetas más cercanos entre el sol y el planeta indicado son: \n",
      "\n",
      "['Mercury', 'Venus', 'Earth', 'Mars', 'Jupiter', 'Saturn']\n",
      "\n",
      "Los planetas más alejados son: \n",
      "\n",
      "[]\n"
     ]
    }
   ],
   "source": [
    "planetSearch = input(\"Ingresa un planeta; El planeta debe comenzar con la primera letra mayuscula\")\n",
    "indexPlanet = planets.index(planetSearch)\n",
    "templateSearch = \"\"\"\n",
    "El planeta {planetSearch} esta en la posición {indexPlanet}\n",
    "\"\"\"\n",
    "templateNearPlanet = \"\"\"\n",
    "Los planetas más cercanos entre el sol y el planeta indicado son: \n",
    "\"\"\"\n",
    "\n",
    "nearPlanets = planets[:indexPlanet]\n",
    "\n",
    "templateFarPlanet = \"\"\"\n",
    "Los planetas más alejados son: \n",
    "\"\"\"\n",
    "\n",
    "farPlanets = planets[(indexPlanet+1):len(planets)]\n",
    "\n",
    "print(templateSearch.format(planetSearch = planetSearch, indexPlanet = (indexPlanet+1)))\n",
    "print(templateNearPlanet)\n",
    "print(nearPlanets)\n",
    "print(templateFarPlanet)\n",
    "print(farPlanets)\n"
   ]
  },
  {
   "cell_type": "code",
   "execution_count": null,
   "metadata": {},
   "outputs": [],
   "source": []
  }
 ],
 "metadata": {
  "interpreter": {
   "hash": "b89b5cfaba6639976dc87ff2fec6d58faec662063367e2c229c520fe71072417"
  },
  "kernelspec": {
   "display_name": "Python 3.10.2 64-bit",
   "language": "python",
   "name": "python3"
  },
  "language_info": {
   "codemirror_mode": {
    "name": "ipython",
    "version": 3
   },
   "file_extension": ".py",
   "mimetype": "text/x-python",
   "name": "python",
   "nbconvert_exporter": "python",
   "pygments_lexer": "ipython3",
   "version": "3.10.2"
  },
  "orig_nbformat": 4
 },
 "nbformat": 4,
 "nbformat_minor": 2
}
