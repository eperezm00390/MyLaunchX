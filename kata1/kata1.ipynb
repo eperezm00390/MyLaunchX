{
 "cells": [
  {
   "cell_type": "code",
   "execution_count": 8,
   "metadata": {},
   "outputs": [
    {
     "name": "stdout",
     "output_type": "stream",
     "text": [
      "Oficial Superior > ¿Cadete?\n",
      "Oficial Superior > ¿Puedes construir un programa que me muestre la fecha? \n",
      "La computadora del barco no venía con mucho en términos de programas de utilidad, \n",
      "por lo que necesitamos crear los que necesitamos. ¿Puedo confiar en ti con esto?\n",
      "Oficial Superior > Excelente\n"
     ]
    }
   ],
   "source": [
    "print(\"Oficial Superior > ¿Cadete?\")\n",
    "respuestaCadete = input(\"Cadete > \")\n",
    "print(\"\"\"Oficial Superior > ¿Puedes construir un programa que me muestre la fecha? \n",
    "La computadora del barco no venía con mucho en términos de programas de utilidad, \n",
    "por lo que necesitamos crear los que necesitamos. ¿Puedo confiar en ti con esto?\"\"\")\n",
    "respuestaCadete = input(\"Cadete > \")\n",
    "print(\"Oficial Superior > Excelente\")"
   ]
  },
  {
   "cell_type": "markdown",
   "metadata": {},
   "source": [
    "# Primer Programa"
   ]
  },
  {
   "cell_type": "code",
   "execution_count": null,
   "metadata": {},
   "outputs": [],
   "source": [
    "from datetime import date\n",
    "\n",
    "print(\"Today's date is \" + str(date.today()))"
   ]
  },
  {
   "cell_type": "markdown",
   "metadata": {},
   "source": [
    "# Convertidor de Unidades"
   ]
  },
  {
   "cell_type": "code",
   "execution_count": null,
   "metadata": {},
   "outputs": [],
   "source": [
    "print(\"\"\"El oficial superior> Necesito una cosa más: un programa de conversión entre parsecs y años luz. \n",
    "Tener un programa de este tipo podría ser realmente útil en el puente para trazar nuestro curso\"\"\")\n",
    "\n",
    "respuestaCadete = input(\"Cadete > \")\n",
    "\n",
    "parsec = 11\n",
    "\n",
    "lightyears =  3.26156 * parsec\n",
    "\n",
    "print(str(parsec) + \" parsec, is \" + str(lightyears) + \" lightyears\")"
   ]
  }
 ],
 "metadata": {
  "interpreter": {
   "hash": "b89b5cfaba6639976dc87ff2fec6d58faec662063367e2c229c520fe71072417"
  },
  "kernelspec": {
   "display_name": "Python 3.10.2 64-bit",
   "language": "python",
   "name": "python3"
  },
  "language_info": {
   "codemirror_mode": {
    "name": "ipython",
    "version": 3
   },
   "file_extension": ".py",
   "mimetype": "text/x-python",
   "name": "python",
   "nbconvert_exporter": "python",
   "pygments_lexer": "ipython3",
   "version": "3.10.2"
  },
  "orig_nbformat": 4
 },
 "nbformat": 4,
 "nbformat_minor": 2
}
